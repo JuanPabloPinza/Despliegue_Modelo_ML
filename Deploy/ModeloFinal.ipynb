{
  "nbformat": 4,
  "nbformat_minor": 0,
  "metadata": {
    "colab": {
      "provenance": []
    },
    "kernelspec": {
      "name": "python3",
      "display_name": "Python 3"
    },
    "language_info": {
      "name": "python"
    }
  },
  "cells": [
    {
      "cell_type": "code",
      "source": [
        "import pandas as pd\n",
        "from sklearn.model_selection import train_test_split\n",
        "from sklearn.preprocessing import StandardScaler\n",
        "from sklearn.svm import SVC\n",
        "import joblib\n",
        "\n",
        "data = pd.read_csv('databaseFinal.csv')\n",
        "\n",
        "X = data.drop(columns=['ingresos-anuales'])\n",
        "y = data['ingresos-anuales']\n",
        "\n",
        "X_train, X_test, y_train, y_test = train_test_split(X, y, test_size=0.2, random_state=42)\n",
        "\n",
        "scaler = StandardScaler()\n",
        "X_train_scaled = scaler.fit_transform(X_train)\n",
        "X_test_scaled = scaler.transform(X_test)\n",
        "\n",
        "model_rbf = SVC(kernel='rbf', random_state=42)\n",
        "model_rbf.fit(X_train_scaled, y_train)\n",
        "\n",
        "joblib.dump(model_rbf, 'svm_model_rbf.pkl')\n",
        "joblib.dump(scaler, 'scaler.pkl')\n"
      ],
      "metadata": {
        "id": "hNgcPfHNCjhO"
      },
      "execution_count": null,
      "outputs": []
    }
  ]
}